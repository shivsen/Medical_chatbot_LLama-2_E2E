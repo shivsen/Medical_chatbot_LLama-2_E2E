{
 "cells": [
  {
   "cell_type": "code",
   "execution_count": 1,
   "id": "28494592-b1bf-4c07-bda5-a677b3321a43",
   "metadata": {},
   "outputs": [],
   "source": [
    "\n",
    "from langchain.llms import CTransformers"
   ]
  },
  {
   "cell_type": "code",
   "execution_count": 4,
   "id": "66bb30ca",
   "metadata": {},
   "outputs": [],
   "source": [
    "llm = CTransformers(model=\"model/llama-2-7b-chat.ggmlv3.q4_0.bin\", model_type=\"llama\",\n",
    "                    config={\"temperature\" : 0.8})"
   ]
  },
  {
   "cell_type": "code",
   "execution_count": 5,
   "id": "71a01634",
   "metadata": {},
   "outputs": [],
   "source": [
    "query = \"headache\""
   ]
  },
  {
   "cell_type": "code",
   "execution_count": 7,
   "id": "278aab3c",
   "metadata": {},
   "outputs": [],
   "source": [
    "final_results = '''To relieve headaches, you can disperse the \"GB20\" points at the base of the skull and the \"yintang\" point in the middle of the forehead between the eyebrows. Apply gentle pressure for two minutes on each point to clear the mind and alleviate headaches. Additionally, the \"LI4\" point located in the web between the thumb and index finger on the back of the hand can be used for headaches, toothaches, sinus problems, and pain in the upper body. Apply pinching pressure with the thumb and index finger of the other hand until relief is felt. These acupressure points can be effective in treating common ailments like headaches.'''"
   ]
  },
  {
   "cell_type": "code",
   "execution_count": 9,
   "id": "f4d8b4e9",
   "metadata": {},
   "outputs": [],
   "source": [
    "from langchain.chains import LLMChain\n",
    "\n",
    "chain = LLMChain(llm=llm, prompt = prompt)"
   ]
  },
  {
   "cell_type": "code",
   "execution_count": 10,
   "id": "f3802fae",
   "metadata": {},
   "outputs": [
    {
     "name": "stdout",
     "output_type": "stream",
     "text": [
      "\n",
      "• To relieve headaches, apply gentle pressure for two minutes on the \"GB20\" points at the base of the skull and the \"yintang\" point in the middle of the forehead between the eyebrows.\n",
      "• For headaches, toothaches, sinus problems, and pain in the upper body, apply pinching pressure with the thumb and index finger of the other hand until relief is felt on the \"LI4\" point located in the web between the thumb and index finger on the back of the hand.\n"
     ]
    }
   ],
   "source": [
    "print(chain.run({\"question\" : query,  \"context\" : final_results}))"
   ]
  }
 ],
 "metadata": {
  "kernelspec": {
   "display_name": "Python 3 (ipykernel)",
   "language": "python",
   "name": "python3"
  },
  "language_info": {
   "codemirror_mode": {
    "name": "ipython",
    "version": 3
   },
   "file_extension": ".py",
   "mimetype": "text/x-python",
   "name": "python",
   "nbconvert_exporter": "python",
   "pygments_lexer": "ipython3",
   "version": "3.8.19"
  }
 },
 "nbformat": 4,
 "nbformat_minor": 5
}
